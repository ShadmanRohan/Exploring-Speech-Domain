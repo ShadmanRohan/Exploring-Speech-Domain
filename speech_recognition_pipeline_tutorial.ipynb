{
  "cells": [
    {
      "cell_type": "markdown",
      "metadata": {
        "id": "view-in-github",
        "colab_type": "text"
      },
      "source": [
        "<a href=\"https://colab.research.google.com/github/ShadmanRohan/Exploring-Speech-Domain/blob/main/speech_recognition_pipeline_tutorial.ipynb\" target=\"_parent\"><img src=\"https://colab.research.google.com/assets/colab-badge.svg\" alt=\"Open In Colab\"/></a>"
      ]
    },
    {
      "cell_type": "code",
      "execution_count": null,
      "metadata": {
        "id": "tBjxeNWbBOVM"
      },
      "outputs": [],
      "source": [
        "%matplotlib inline"
      ]
    },
    {
      "cell_type": "markdown",
      "metadata": {
        "id": "rorT4Iz_BOVQ"
      },
      "source": [
        "\n",
        "Speech Recognition with Wav2Vec2\n",
        "================================\n",
        "\n",
        "**Author**: `Moto Hira <moto@fb.com>`__\n",
        "\n",
        "This tutorial shows how to perform speech recognition using\n",
        "pre-trained models from wav2vec 2.0\n",
        "[`paper <https://arxiv.org/abs/2006.11477>`__].\n"
      ]
    },
    {
      "cell_type": "markdown",
      "metadata": {
        "id": "pla3_hKFBOVT"
      },
      "source": [
        "Overview\n",
        "--------\n",
        "\n",
        "The process of speech recognition looks like the following.\n",
        "\n",
        "1. Extract the acoustic features from audio waveform\n",
        "\n",
        "2. Estimate the class of the acoustic features frame-by-frame\n",
        "\n",
        "3. Generate hypothesis from the sequence of the class probabilities\n",
        "\n",
        "Torchaudio provides easy access to the pre-trained weights and\n",
        "associated information, such as the expected sample rate and class\n",
        "labels. They are bundled together and available under\n",
        ":py:func:`torchaudio.pipelines` module.\n",
        "\n",
        "\n"
      ]
    },
    {
      "cell_type": "markdown",
      "metadata": {
        "id": "cafa_aY8BOVU"
      },
      "source": [
        "Preparation\n",
        "-----------\n",
        "\n",
        "First we import the necessary packages, and fetch data that we work on.\n",
        "\n",
        "\n"
      ]
    },
    {
      "cell_type": "code",
      "execution_count": null,
      "metadata": {
        "id": "-DMzn4BbBOVW"
      },
      "outputs": [],
      "source": [
        "# %matplotlib inline\n",
        "\n",
        "import os\n",
        "\n",
        "import IPython\n",
        "import matplotlib\n",
        "import matplotlib.pyplot as plt\n",
        "import requests\n",
        "import torch\n",
        "import torchaudio\n",
        "\n",
        "matplotlib.rcParams[\"figure.figsize\"] = [16.0, 4.8]\n",
        "\n",
        "torch.random.manual_seed(0)\n",
        "device = torch.device(\"cuda\" if torch.cuda.is_available() else \"cpu\")\n",
        "\n",
        "print(torch.__version__)\n",
        "print(torchaudio.__version__)\n",
        "print(device)\n",
        "\n",
        "SPEECH_URL = \"https://pytorch-tutorial-assets.s3.amazonaws.com/VOiCES_devkit/source-16k/train/sp0307/Lab41-SRI-VOiCES-src-sp0307-ch127535-sg0042.wav\"  # noqa: E501\n",
        "SPEECH_FILE = \"_assets/speech.wav\"\n",
        "\n",
        "if not os.path.exists(SPEECH_FILE):\n",
        "    os.makedirs(\"_assets\", exist_ok=True)\n",
        "    with open(SPEECH_FILE, \"wb\") as file:\n",
        "        file.write(requests.get(SPEECH_URL).content)"
      ]
    },
    {
      "cell_type": "markdown",
      "metadata": {
        "id": "aDMeeNx7BOVX"
      },
      "source": [
        "Creating a pipeline\n",
        "-------------------\n",
        "\n",
        "First, we will create a Wav2Vec2 model that performs the feature\n",
        "extraction and the classification.\n",
        "\n",
        "There are two types of Wav2Vec2 pre-trained weights available in\n",
        "torchaudio. The ones fine-tuned for ASR task, and the ones not\n",
        "fine-tuned.\n",
        "\n",
        "Wav2Vec2 (and HuBERT) models are trained in self-supervised manner. They\n",
        "are firstly trained with audio only for representation learning, then\n",
        "fine-tuned for a specific task with additional labels.\n",
        "\n",
        "The pre-trained weights without fine-tuning can be fine-tuned\n",
        "for other downstream tasks as well, but this tutorial does not\n",
        "cover that.\n",
        "\n",
        "We will use :py:func:`torchaudio.pipelines.WAV2VEC2_ASR_BASE_960H` here.\n",
        "\n",
        "There are multiple models available as\n",
        ":py:mod:`torchaudio.pipelines`. Please check the documentation for\n",
        "the detail of how they are trained.\n",
        "\n",
        "The bundle object provides the interface to instantiate model and other\n",
        "information. Sampling rate and the class labels are found as follow.\n",
        "\n",
        "\n"
      ]
    },
    {
      "cell_type": "code",
      "execution_count": null,
      "metadata": {
        "id": "0FRaOd15BOVX"
      },
      "outputs": [],
      "source": [
        "bundle = torchaudio.pipelines.WAV2VEC2_ASR_BASE_960H\n",
        "\n",
        "print(\"Sample Rate:\", bundle.sample_rate)\n",
        "\n",
        "print(\"Labels:\", bundle.get_labels())"
      ]
    },
    {
      "cell_type": "markdown",
      "metadata": {
        "id": "zdOlK68UBOVY"
      },
      "source": [
        "Model can be constructed as following. This process will automatically\n",
        "fetch the pre-trained weights and load it into the model.\n",
        "\n",
        "\n"
      ]
    },
    {
      "cell_type": "code",
      "execution_count": null,
      "metadata": {
        "id": "V6SBM2otBOVZ"
      },
      "outputs": [],
      "source": [
        "model = bundle.get_model().to(device)\n",
        "\n",
        "print(model.__class__)"
      ]
    },
    {
      "cell_type": "markdown",
      "metadata": {
        "id": "wleJwfvHBOVb"
      },
      "source": [
        "Loading data\n",
        "------------\n",
        "\n",
        "We will use the speech data from `VOiCES\n",
        "dataset <https://iqtlabs.github.io/voices/>`__, which is licensed under\n",
        "Creative Commons BY 4.0.\n",
        "\n",
        "\n"
      ]
    },
    {
      "cell_type": "code",
      "execution_count": null,
      "metadata": {
        "id": "OoO6Lu6mBOVb"
      },
      "outputs": [],
      "source": [
        "IPython.display.Audio(SPEECH_FILE)"
      ]
    },
    {
      "cell_type": "markdown",
      "metadata": {
        "id": "SFxXpnD4BOVc"
      },
      "source": [
        "To load data, we use :py:func:`torchaudio.load`.\n",
        "\n",
        "If the sampling rate is different from what the pipeline expects, then\n",
        "we can use :py:func:`torchaudio.functional.resample` for resampling.\n",
        "\n",
        "<div class=\"alert alert-info\"><h4>Note</h4><p>- :py:func:`torchaudio.functional.resample` works on CUDA tensors as well.\n",
        "   - When performing resampling multiple times on the same set of sample rates,\n",
        "     using :py:func:`torchaudio.transforms.Resample` might improve the performace.</p></div>\n",
        "\n",
        "\n"
      ]
    },
    {
      "cell_type": "code",
      "execution_count": null,
      "metadata": {
        "id": "x7O2tqflBOVc"
      },
      "outputs": [],
      "source": [
        "waveform, sample_rate = torchaudio.load(SPEECH_FILE)\n",
        "waveform = waveform.to(device)\n",
        "\n",
        "if sample_rate != bundle.sample_rate:\n",
        "    waveform = torchaudio.functional.resample(waveform, sample_rate, bundle.sample_rate)"
      ]
    },
    {
      "cell_type": "markdown",
      "metadata": {
        "id": "XvPdRAtDBOVd"
      },
      "source": [
        "Extracting acoustic features\n",
        "----------------------------\n",
        "\n",
        "The next step is to extract acoustic features from the audio.\n",
        "\n",
        "<div class=\"alert alert-info\"><h4>Note</h4><p>Wav2Vec2 models fine-tuned for ASR task can perform feature\n",
        "   extraction and classification with one step, but for the sake of the\n",
        "   tutorial, we also show how to perform feature extraction here.</p></div>\n",
        "\n",
        "\n"
      ]
    },
    {
      "cell_type": "code",
      "execution_count": null,
      "metadata": {
        "id": "9GpvMDDcBOVd"
      },
      "outputs": [],
      "source": [
        "with torch.inference_mode():\n",
        "    features, _ = model.extract_features(waveform)"
      ]
    },
    {
      "cell_type": "markdown",
      "metadata": {
        "id": "ZKIvtZ67BOVd"
      },
      "source": [
        "The returned features is a list of tensors. Each tensor is the output of\n",
        "a transformer layer.\n",
        "\n",
        "\n"
      ]
    },
    {
      "cell_type": "code",
      "execution_count": null,
      "metadata": {
        "id": "Y-mrwv-tBOVe"
      },
      "outputs": [],
      "source": [
        "fig, ax = plt.subplots(len(features), 1, figsize=(16, 4.3 * len(features)))\n",
        "for i, feats in enumerate(features):\n",
        "    ax[i].imshow(feats[0].cpu())\n",
        "    ax[i].set_title(f\"Feature from transformer layer {i+1}\")\n",
        "    ax[i].set_xlabel(\"Feature dimension\")\n",
        "    ax[i].set_ylabel(\"Frame (time-axis)\")\n",
        "plt.tight_layout()\n",
        "plt.show()"
      ]
    },
    {
      "cell_type": "markdown",
      "metadata": {
        "id": "lVM9hCzzBOVe"
      },
      "source": [
        "Feature classification\n",
        "----------------------\n",
        "\n",
        "Once the acoustic features are extracted, the next step is to classify\n",
        "them into a set of categories.\n",
        "\n",
        "Wav2Vec2 model provides method to perform the feature extraction and\n",
        "classification in one step.\n",
        "\n",
        "\n"
      ]
    },
    {
      "cell_type": "code",
      "execution_count": null,
      "metadata": {
        "id": "6U-nUp5mBOVe"
      },
      "outputs": [],
      "source": [
        "with torch.inference_mode():\n",
        "    emission, _ = model(waveform)"
      ]
    },
    {
      "cell_type": "markdown",
      "metadata": {
        "id": "29Wi0Du-BOVf"
      },
      "source": [
        "The output is in the form of logits. It is not in the form of\n",
        "probability.\n",
        "\n",
        "Let’s visualize this.\n",
        "\n",
        "\n"
      ]
    },
    {
      "cell_type": "code",
      "execution_count": null,
      "metadata": {
        "id": "RmZ5YETEBOVf"
      },
      "outputs": [],
      "source": [
        "plt.imshow(emission[0].cpu().T)\n",
        "plt.title(\"Classification result\")\n",
        "plt.xlabel(\"Frame (time-axis)\")\n",
        "plt.ylabel(\"Class\")\n",
        "plt.show()\n",
        "print(\"Class labels:\", bundle.get_labels())"
      ]
    },
    {
      "cell_type": "markdown",
      "metadata": {
        "id": "1Awinlh6BOVf"
      },
      "source": [
        "We can see that there are strong indications to certain labels across\n",
        "the time line.\n",
        "\n",
        "\n"
      ]
    },
    {
      "cell_type": "markdown",
      "metadata": {
        "id": "ur35rYMGBOVg"
      },
      "source": [
        "Generating transcripts\n",
        "----------------------\n",
        "\n",
        "From the sequence of label probabilities, now we want to generate\n",
        "transcripts. The process to generate hypotheses is often called\n",
        "“decoding”.\n",
        "\n",
        "Decoding is more elaborate than simple classification because\n",
        "decoding at certain time step can be affected by surrounding\n",
        "observations.\n",
        "\n",
        "For example, take a word like ``night`` and ``knight``. Even if their\n",
        "prior probability distribution are differnt (in typical conversations,\n",
        "``night`` would occur way more often than ``knight``), to accurately\n",
        "generate transcripts with ``knight``, such as ``a knight with a sword``,\n",
        "the decoding process has to postpone the final decision until it sees\n",
        "enough context.\n",
        "\n",
        "There are many decoding techniques proposed, and they require external\n",
        "resources, such as word dictionary and language models.\n",
        "\n",
        "In this tutorial, for the sake of simplicity, we will perform greedy\n",
        "decoding which does not depend on such external components, and simply\n",
        "pick up the best hypothesis at each time step. Therefore, the context\n",
        "information are not used, and only one transcript can be generated.\n",
        "\n",
        "We start by defining greedy decoding algorithm.\n",
        "\n",
        "\n"
      ]
    },
    {
      "cell_type": "code",
      "execution_count": null,
      "metadata": {
        "id": "FsDFm6f0BOVh"
      },
      "outputs": [],
      "source": [
        "class GreedyCTCDecoder(torch.nn.Module):\n",
        "    def __init__(self, labels, blank=0):\n",
        "        super().__init__()\n",
        "        self.labels = labels\n",
        "        self.blank = blank\n",
        "\n",
        "    def forward(self, emission: torch.Tensor) -> str:\n",
        "        \"\"\"Given a sequence emission over labels, get the best path string\n",
        "        Args:\n",
        "          emission (Tensor): Logit tensors. Shape `[num_seq, num_label]`.\n",
        "\n",
        "        Returns:\n",
        "          str: The resulting transcript\n",
        "        \"\"\"\n",
        "        indices = torch.argmax(emission, dim=-1)  # [num_seq,]\n",
        "        indices = torch.unique_consecutive(indices, dim=-1)\n",
        "        indices = [i for i in indices if i != self.blank]\n",
        "        return \"\".join([self.labels[i] for i in indices])"
      ]
    },
    {
      "cell_type": "markdown",
      "metadata": {
        "id": "5RkDM4RlBOVh"
      },
      "source": [
        "Now create the decoder object and decode the transcript.\n",
        "\n",
        "\n"
      ]
    },
    {
      "cell_type": "code",
      "execution_count": null,
      "metadata": {
        "id": "VcHYUB2bBOVi"
      },
      "outputs": [],
      "source": [
        "decoder = GreedyCTCDecoder(labels=bundle.get_labels())\n",
        "transcript = decoder(emission[0])"
      ]
    },
    {
      "cell_type": "markdown",
      "metadata": {
        "id": "VG2JSOcPBOVi"
      },
      "source": [
        "Let’s check the result and listen again to the audio.\n",
        "\n",
        "\n"
      ]
    },
    {
      "cell_type": "code",
      "execution_count": null,
      "metadata": {
        "id": "9lLbyUC2BOVi"
      },
      "outputs": [],
      "source": [
        "print(transcript)\n",
        "IPython.display.Audio(SPEECH_FILE)"
      ]
    },
    {
      "cell_type": "markdown",
      "metadata": {
        "id": "tg7TLFd5BOVi"
      },
      "source": [
        "The ASR model is fine-tuned using a loss function called Connectionist Temporal Classification (CTC).\n",
        "The detail of CTC loss is explained\n",
        "`here <https://distill.pub/2017/ctc/>`__. In CTC a blank token (ϵ) is a\n",
        "special token which represents a repetition of the previous symbol. In\n",
        "decoding, these are simply ignored.\n",
        "\n",
        "\n"
      ]
    },
    {
      "cell_type": "markdown",
      "metadata": {
        "id": "t46FfoCHBOVi"
      },
      "source": [
        "Conclusion\n",
        "----------\n",
        "\n",
        "In this tutorial, we looked at how to use :py:mod:`torchaudio.pipelines` to\n",
        "perform acoustic feature extraction and speech recognition. Constructing\n",
        "a model and getting the emission is as short as two lines.\n",
        "\n",
        "::\n",
        "\n",
        "   model = torchaudio.pipelines.WAV2VEC2_ASR_BASE_960H.get_model()\n",
        "   emission = model(waveforms, ...)\n",
        "\n",
        "\n"
      ]
    }
  ],
  "metadata": {
    "kernelspec": {
      "display_name": "Python 3",
      "language": "python",
      "name": "python3"
    },
    "language_info": {
      "codemirror_mode": {
        "name": "ipython",
        "version": 3
      },
      "file_extension": ".py",
      "mimetype": "text/x-python",
      "name": "python",
      "nbconvert_exporter": "python",
      "pygments_lexer": "ipython3",
      "version": "3.7.13"
    },
    "colab": {
      "provenance": [],
      "include_colab_link": true
    }
  },
  "nbformat": 4,
  "nbformat_minor": 0
}